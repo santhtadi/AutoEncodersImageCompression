{
  "nbformat": 4,
  "nbformat_minor": 0,
  "metadata": {
    "colab": {
      "name": "AutoEncoderImageCompression.ipynb",
      "provenance": [],
      "toc_visible": true
    },
    "kernelspec": {
      "name": "python3",
      "display_name": "Python 3"
    },
    "accelerator": "GPU"
  },
  "cells": [
    {
      "cell_type": "markdown",
      "metadata": {
        "id": "vpRBJjnN62-V"
      },
      "source": [
        "#Auto Encoders for Image Compression\n"
      ]
    },
    {
      "cell_type": "markdown",
      "metadata": {
        "id": "avfEJtTG7SGI"
      },
      "source": [
        "#Gray 28x28 Image Compression Steps:\n",
        "\n",
        "Please Note That this is followed from Tensorflow's Auto Encoder Documentation (More info at: https://www.tensorflow.org/tutorials/generative/autoencoder)\n",
        "\n",
        "\n",
        "Step-1: Imports\n",
        "\n",
        "Step-2: Load Dataset\n",
        "\n",
        "Step-3: Prepare Data\n",
        "\n",
        "Step-4: Build AutoEncoder Model\n",
        "\n",
        "Step-5: Train AutoEncoder\n",
        "\n",
        "Step-6: Save AutoEncoder\n",
        "\n",
        "Step-7: Load AutoEncoder Model\n",
        "\n",
        "Step-8: Decode Function\n",
        "\n",
        "Step-9: Visualize Results\n",
        "\n",
        "Step-10: Compare byte sizes"
      ]
    },
    {
      "cell_type": "markdown",
      "metadata": {
        "id": "ucG4xKwV79LT"
      },
      "source": [
        "## Imports"
      ]
    },
    {
      "cell_type": "code",
      "metadata": {
        "id": "YfIk2es3hJEd"
      },
      "source": [
        "import matplotlib.pyplot as plt\n",
        "import numpy as np\n",
        "import pandas as pd\n",
        "import tensorflow as tf\n",
        "\n",
        "from sklearn.metrics import accuracy_score, precision_score, recall_score\n",
        "from sklearn.model_selection import train_test_split\n",
        "from tensorflow.keras import layers, losses\n",
        "from tensorflow.keras.datasets import fashion_mnist\n",
        "from tensorflow.keras.models import Model"
      ],
      "execution_count": 4,
      "outputs": []
    },
    {
      "cell_type": "code",
      "metadata": {
        "id": "tml4LPxa8Gbt"
      },
      "source": [
        "import os\n",
        "import numpy as np\n",
        "import cv2"
      ],
      "execution_count": 5,
      "outputs": []
    },
    {
      "cell_type": "markdown",
      "metadata": {
        "id": "5DHzGnpt7-94"
      },
      "source": [
        "## Load Dataset"
      ]
    },
    {
      "cell_type": "code",
      "metadata": {
        "id": "bUJ6dX-K6xFU"
      },
      "source": [
        "def load_data(img_dir):\n",
        "  x_train = []\n",
        "  image_paths = [os.path.join(img_dir,w) for w in os.listdir(img_dir) if w.endswith(\".png\")]\n",
        "  for image_path in image_paths:\n",
        "    x_train.append(cv2.imread(image_path, 0))\n",
        "  return np.array(x_train)"
      ],
      "execution_count": 142,
      "outputs": []
    },
    {
      "cell_type": "code",
      "metadata": {
        "id": "wvaKOBJS9CKl"
      },
      "source": [
        "%%shell\n",
        "unzip resized_28x28_gray.zip"
      ],
      "execution_count": null,
      "outputs": []
    },
    {
      "cell_type": "code",
      "metadata": {
        "id": "qOvw_fGC62wd"
      },
      "source": [
        "data = load_data(\"./resized_28x28_gray\")"
      ],
      "execution_count": 143,
      "outputs": []
    },
    {
      "cell_type": "markdown",
      "metadata": {
        "id": "LuW0WU0e94UN"
      },
      "source": [
        "## Prepare Data"
      ]
    },
    {
      "cell_type": "code",
      "metadata": {
        "id": "qkHFIrvT9MYv",
        "outputId": "b8f96353-6a2b-4c8d-9808-e9386d4766af",
        "colab": {
          "base_uri": "https://localhost:8080/",
          "height": 70
        }
      },
      "source": [
        "data = data.astype('float32') / 255.\n",
        "x_train = data[:65000]\n",
        "x_test = data[65000:]\n",
        "x_train = x_train[..., tf.newaxis]\n",
        "x_test = x_test[..., tf.newaxis]\n",
        "print(type(x_train[0]))\n",
        "print (x_train.shape)\n",
        "print (x_test.shape)"
      ],
      "execution_count": 144,
      "outputs": [
        {
          "output_type": "stream",
          "text": [
            "<class 'numpy.ndarray'>\n",
            "(65000, 28, 28, 1)\n",
            "(5000, 28, 28, 1)\n"
          ],
          "name": "stdout"
        }
      ]
    },
    {
      "cell_type": "code",
      "metadata": {
        "id": "IeWd8-OZd2Ni",
        "outputId": "c0a36342-1c06-4277-f9e3-79f95aac9bd9",
        "colab": {
          "base_uri": "https://localhost:8080/",
          "height": 35
        }
      },
      "source": [
        "x_test.shape"
      ],
      "execution_count": 156,
      "outputs": [
        {
          "output_type": "execute_result",
          "data": {
            "text/plain": [
              "(5000, 28, 28, 1)"
            ]
          },
          "metadata": {
            "tags": []
          },
          "execution_count": 156
        }
      ]
    },
    {
      "cell_type": "markdown",
      "metadata": {
        "id": "i2TJn79u-Gt9"
      },
      "source": [
        "## Create AutoEncoder Model"
      ]
    },
    {
      "cell_type": "code",
      "metadata": {
        "id": "ftprqRT1-M_a"
      },
      "source": [
        "class ConvAutoEncoder(Model):\n",
        "  def __init__(self):\n",
        "    super(ConvAutoEncoder, self).__init__()\n",
        "    self.encoder = tf.keras.Sequential([\n",
        "      layers.Input(shape=(28, 28, 1)), \n",
        "      layers.Conv2D(16, (3,3), activation='relu', padding='same', strides=2),\n",
        "      layers.Conv2D(8, (3,3), activation='relu', padding='same', strides=2)])\n",
        "    \n",
        "    self.decoder = tf.keras.Sequential([\n",
        "      layers.Conv2DTranspose(8, kernel_size=3, strides=2, activation='relu', padding='same'),\n",
        "      layers.Conv2DTranspose(16, kernel_size=3, strides=2, activation='relu', padding='same'),\n",
        "      layers.Conv2D(1, kernel_size=(3,3), activation='sigmoid', padding='same')])\n",
        "    \n",
        "  def call(self, x):\n",
        "    encoded = self.encoder(x)\n",
        "    decoded = self.decoder(encoded)\n",
        "    return decoded\n",
        "\n",
        "autoencoder = ConvAutoEncoder()"
      ],
      "execution_count": 179,
      "outputs": []
    },
    {
      "cell_type": "code",
      "metadata": {
        "id": "lg2kVO_c-jkP"
      },
      "source": [
        "autoencoder.compile(optimizer='adam', loss=losses.MeanSquaredError())"
      ],
      "execution_count": 180,
      "outputs": []
    },
    {
      "cell_type": "code",
      "metadata": {
        "id": "oWbwTSu6_JNG",
        "outputId": "fe0b8246-12ea-44cb-c6ef-169805f050de",
        "colab": {
          "base_uri": "https://localhost:8080/",
          "height": 230
        }
      },
      "source": [
        "autoencoder.encoder.summary()"
      ],
      "execution_count": 190,
      "outputs": [
        {
          "output_type": "stream",
          "text": [
            "Model: \"sequential_32\"\n",
            "_________________________________________________________________\n",
            "Layer (type)                 Output Shape              Param #   \n",
            "=================================================================\n",
            "conv2d_12 (Conv2D)           (None, 14, 14, 16)        160       \n",
            "_________________________________________________________________\n",
            "conv2d_13 (Conv2D)           (None, 7, 7, 8)           1160      \n",
            "=================================================================\n",
            "Total params: 1,320\n",
            "Trainable params: 1,320\n",
            "Non-trainable params: 0\n",
            "_________________________________________________________________\n"
          ],
          "name": "stdout"
        }
      ]
    },
    {
      "cell_type": "code",
      "metadata": {
        "id": "CX0dmJw4fyNe",
        "outputId": "c2722a04-774b-4ba6-c7e1-a155ccd43654",
        "colab": {
          "base_uri": "https://localhost:8080/",
          "height": 266
        }
      },
      "source": [
        "autoencoder.decoder.summary()"
      ],
      "execution_count": 191,
      "outputs": [
        {
          "output_type": "stream",
          "text": [
            "Model: \"sequential_33\"\n",
            "_________________________________________________________________\n",
            "Layer (type)                 Output Shape              Param #   \n",
            "=================================================================\n",
            "conv2d_transpose_8 (Conv2DTr (None, 14, 14, 8)         584       \n",
            "_________________________________________________________________\n",
            "conv2d_transpose_9 (Conv2DTr (None, 28, 28, 16)        1168      \n",
            "_________________________________________________________________\n",
            "conv2d_14 (Conv2D)           (None, 28, 28, 1)         145       \n",
            "=================================================================\n",
            "Total params: 1,897\n",
            "Trainable params: 1,897\n",
            "Non-trainable params: 0\n",
            "_________________________________________________________________\n"
          ],
          "name": "stdout"
        }
      ]
    },
    {
      "cell_type": "markdown",
      "metadata": {
        "id": "efYF31Xo-dkP"
      },
      "source": [
        "## Train AutoEncoder"
      ]
    },
    {
      "cell_type": "code",
      "metadata": {
        "id": "c3Ok7yBf-VMk",
        "outputId": "4c286854-e01e-427d-f73d-0722c8e54698",
        "colab": {
          "base_uri": "https://localhost:8080/",
          "height": 390
        }
      },
      "source": [
        "autoencoder.fit(x_train, x_train,\n",
        "                epochs=10,\n",
        "                shuffle=True,\n",
        "                validation_data=(x_test, x_test))"
      ],
      "execution_count": 182,
      "outputs": [
        {
          "output_type": "stream",
          "text": [
            "Epoch 1/10\n",
            "2032/2032 [==============================] - 7s 3ms/step - loss: 0.0092 - val_loss: 0.0056\n",
            "Epoch 2/10\n",
            "2032/2032 [==============================] - 6s 3ms/step - loss: 0.0049 - val_loss: 0.0046\n",
            "Epoch 3/10\n",
            "2032/2032 [==============================] - 6s 3ms/step - loss: 0.0044 - val_loss: 0.0043\n",
            "Epoch 4/10\n",
            "2032/2032 [==============================] - 6s 3ms/step - loss: 0.0043 - val_loss: 0.0043\n",
            "Epoch 5/10\n",
            "2032/2032 [==============================] - 6s 3ms/step - loss: 0.0042 - val_loss: 0.0043\n",
            "Epoch 6/10\n",
            "2032/2032 [==============================] - 6s 3ms/step - loss: 0.0042 - val_loss: 0.0042\n",
            "Epoch 7/10\n",
            "2032/2032 [==============================] - 6s 3ms/step - loss: 0.0042 - val_loss: 0.0042\n",
            "Epoch 8/10\n",
            "2032/2032 [==============================] - 6s 3ms/step - loss: 0.0042 - val_loss: 0.0041\n",
            "Epoch 9/10\n",
            "2032/2032 [==============================] - 6s 3ms/step - loss: 0.0041 - val_loss: 0.0041\n",
            "Epoch 10/10\n",
            "2032/2032 [==============================] - 6s 3ms/step - loss: 0.0041 - val_loss: 0.0041\n"
          ],
          "name": "stdout"
        },
        {
          "output_type": "execute_result",
          "data": {
            "text/plain": [
              "<tensorflow.python.keras.callbacks.History at 0x7f3e3e071fd0>"
            ]
          },
          "metadata": {
            "tags": []
          },
          "execution_count": 182
        }
      ]
    },
    {
      "cell_type": "markdown",
      "metadata": {
        "id": "kA8oLWLR-vbi"
      },
      "source": [
        "##Save AutoEncoder Model"
      ]
    },
    {
      "cell_type": "code",
      "metadata": {
        "id": "YLyB-6_N-nMX",
        "outputId": "360d59b6-2171-427f-f801-12c3ed1ddcfa",
        "colab": {
          "base_uri": "https://localhost:8080/",
          "height": 161
        }
      },
      "source": [
        "autoencoder.save(\"./autoencoder_model_28x28_gray\")"
      ],
      "execution_count": null,
      "outputs": [
        {
          "output_type": "stream",
          "text": [
            "WARNING:tensorflow:From /usr/local/lib/python3.6/dist-packages/tensorflow/python/training/tracking/tracking.py:111: Model.state_updates (from tensorflow.python.keras.engine.training) is deprecated and will be removed in a future version.\n",
            "Instructions for updating:\n",
            "This property should not be used in TensorFlow 2.0, as updates are applied automatically.\n",
            "WARNING:tensorflow:From /usr/local/lib/python3.6/dist-packages/tensorflow/python/training/tracking/tracking.py:111: Layer.updates (from tensorflow.python.keras.engine.base_layer) is deprecated and will be removed in a future version.\n",
            "Instructions for updating:\n",
            "This property should not be used in TensorFlow 2.0, as updates are applied automatically.\n",
            "INFO:tensorflow:Assets written to: ./autoencoder_model_28x28_gray/assets\n"
          ],
          "name": "stdout"
        }
      ]
    },
    {
      "cell_type": "markdown",
      "metadata": {
        "id": "6e_oL-Av-7gl"
      },
      "source": [
        "## Load AutoEncoder Model"
      ]
    },
    {
      "cell_type": "code",
      "metadata": {
        "id": "iP3vadX1-3nG",
        "outputId": "e0302016-e120-4664-efe0-71f38eeecfde",
        "colab": {
          "base_uri": "https://localhost:8080/",
          "height": 230
        }
      },
      "source": [
        "autoencoder = tf.keras.models.load_model('./autoencoder_model_28x28_gray/')\n",
        "autoencoder.summary()"
      ],
      "execution_count": null,
      "outputs": [
        {
          "output_type": "stream",
          "text": [
            "Model: \"autoencoder\"\n",
            "_________________________________________________________________\n",
            "Layer (type)                 Output Shape              Param #   \n",
            "=================================================================\n",
            "sequential (Sequential)      (None, 64)                50240     \n",
            "_________________________________________________________________\n",
            "sequential_1 (Sequential)    (None, 28, 28)            50960     \n",
            "=================================================================\n",
            "Total params: 101,200\n",
            "Trainable params: 101,200\n",
            "Non-trainable params: 0\n",
            "_________________________________________________________________\n"
          ],
          "name": "stdout"
        }
      ]
    },
    {
      "cell_type": "markdown",
      "metadata": {
        "id": "Lj3TDDT1_8Gz"
      },
      "source": [
        "## Test AutoEncoder Model"
      ]
    },
    {
      "cell_type": "code",
      "metadata": {
        "id": "GENwXdwn_tEz"
      },
      "source": [
        "encoded_imgs = autoencoder.encoder(x_test).numpy()\n",
        "decoded_imgs = autoencoder.decoder(encoded_imgs).numpy()"
      ],
      "execution_count": 183,
      "outputs": []
    },
    {
      "cell_type": "markdown",
      "metadata": {
        "id": "6J_7YjG9AAkc"
      },
      "source": [
        "## Visualize Results"
      ]
    },
    {
      "cell_type": "code",
      "metadata": {
        "id": "rg9SBc76__Pl",
        "outputId": "66b3ffb6-1d12-46aa-eaa5-a30ef7c5b7e0",
        "colab": {
          "base_uri": "https://localhost:8080/",
          "height": 235
        }
      },
      "source": [
        "n = 10\n",
        "skip=0\n",
        "plt.figure(figsize=(20, 4))\n",
        "for i in range(n):\n",
        "  # display original\n",
        "  ax = plt.subplot(2, n, i + 1)\n",
        "  plt.imshow(tf.squeeze(x_test[skip+i]))\n",
        "  plt.title(\"original\")\n",
        "  plt.gray()\n",
        "  ax.get_xaxis().set_visible(False)\n",
        "  ax.get_yaxis().set_visible(False)\n",
        "\n",
        "  # display reconstruction\n",
        "  ax = plt.subplot(2, n, i + 1 + n)\n",
        "  plt.imshow(tf.squeeze(decoded_imgs[skip+i]))\n",
        "  plt.title(\"reconstructed\")\n",
        "  plt.gray()\n",
        "  ax.get_xaxis().set_visible(False)\n",
        "  ax.get_yaxis().set_visible(False)\n",
        "plt.show()"
      ],
      "execution_count": 184,
      "outputs": [
        {
          "output_type": "display_data",
          "data": {
            "image/png": "[encoded data removed]",
            "text/plain": [
              "<Figure size 1440x288 with 20 Axes>"
            ]
          },
          "metadata": {
            "tags": [],
            "needs_background": "light"
          }
        }
      ]
    },
    {
      "cell_type": "markdown",
      "metadata": {
        "id": "tA5_aaD7P0Nq"
      },
      "source": [
        "## Compare sizes\n"
      ]
    },
    {
      "cell_type": "code",
      "metadata": {
        "id": "IlI6azuXZdfD"
      },
      "source": [
        "import sys"
      ],
      "execution_count": 174,
      "outputs": []
    },
    {
      "cell_type": "code",
      "metadata": {
        "id": "fUiALQvFapvC",
        "outputId": "d16236e3-bd1e-4aa1-9ece-2a61db273598",
        "colab": {
          "base_uri": "https://localhost:8080/",
          "height": 35
        }
      },
      "source": [
        "x_test.nbytes"
      ],
      "execution_count": 185,
      "outputs": [
        {
          "output_type": "execute_result",
          "data": {
            "text/plain": [
              "15680000"
            ]
          },
          "metadata": {
            "tags": []
          },
          "execution_count": 185
        }
      ]
    },
    {
      "cell_type": "code",
      "metadata": {
        "id": "QYhqH9TyeoC1",
        "outputId": "b0cf9a83-5890-4b15-81cc-6b833365c72d",
        "colab": {
          "base_uri": "https://localhost:8080/",
          "height": 35
        }
      },
      "source": [
        "encoded_imgs.nbytes"
      ],
      "execution_count": 186,
      "outputs": [
        {
          "output_type": "execute_result",
          "data": {
            "text/plain": [
              "7840000"
            ]
          },
          "metadata": {
            "tags": []
          },
          "execution_count": 186
        }
      ]
    },
    {
      "cell_type": "code",
      "metadata": {
        "id": "YBkEXJW7atk1",
        "outputId": "2c549d4a-391b-4f64-8314-9ef2bebff7ec",
        "colab": {
          "base_uri": "https://localhost:8080/",
          "height": 35
        }
      },
      "source": [
        "x_test.nbytes/encoded_imgs.nbytes"
      ],
      "execution_count": 187,
      "outputs": [
        {
          "output_type": "execute_result",
          "data": {
            "text/plain": [
              "2.0"
            ]
          },
          "metadata": {
            "tags": []
          },
          "execution_count": 187
        }
      ]
    }
  ]
}